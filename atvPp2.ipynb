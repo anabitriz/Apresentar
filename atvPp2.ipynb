{
  "nbformat": 4,
  "nbformat_minor": 0,
  "metadata": {
    "colab": {
      "provenance": [],
      "authorship_tag": "ABX9TyO7zJrCD0dahD/meWbMKft1",
      "include_colab_link": true
    },
    "kernelspec": {
      "name": "python3",
      "display_name": "Python 3"
    },
    "language_info": {
      "name": "python"
    }
  },
  "cells": [
    {
      "cell_type": "markdown",
      "metadata": {
        "id": "view-in-github",
        "colab_type": "text"
      },
      "source": [
        "<a href=\"https://colab.research.google.com/github/anabitriz/Apresentar/blob/main/atvPp2.ipynb\" target=\"_parent\"><img src=\"https://colab.research.google.com/assets/colab-badge.svg\" alt=\"Open In Colab\"/></a>"
      ]
    },
    {
      "cell_type": "code",
      "source": [
        "# prompt: q.6)\n",
        "\n",
        "numero = int(input(\"Digite um número inteiro: \"))\n",
        "\n",
        "if numero % 2 == 0:\n",
        "    print(\"O número é par.\")\n",
        "else:\n",
        "    print(\"O número é ímpar.\")\n",
        "\n",
        "\n"
      ],
      "metadata": {
        "id": "8PwGRmguYHKr"
      },
      "execution_count": null,
      "outputs": []
    },
    {
      "cell_type": "code",
      "source": [
        "# prompt: q.7)\n",
        "\n",
        "nota1 = float(input(\"Digite a nota 1\"))\n",
        "nota2 = float(input(\"Digite a nota 2\"))\n",
        "nota3 = float(input(\"Digite a nota 3\"))\n",
        "media = (nota1 + nota2 + nota3) / 3\n",
        "\n",
        "if media < 4:\n",
        "    print(\"Reprovado\")\n",
        "elif 4 <= media <7:\n",
        " print(\"Em Prova Final\")\n",
        "else:\n",
        "  print( \"Aprovado\")\n",
        "\n",
        "\n",
        "\n"
      ],
      "metadata": {
        "id": "0Cv61n0hZJAh"
      },
      "execution_count": null,
      "outputs": []
    },
    {
      "cell_type": "code",
      "source": [
        "# prompt: q.8)\n",
        "\n",
        "\n",
        "idade = int(input(\"Digite a idade do nadador: \"))\n",
        "\n",
        "if 5 <= idade <= 7:\n",
        "   print( \"junior\")\n",
        "elif 8 <= idade <= 12:\n",
        "   print( \"infantil\")\n",
        "elif 13 <= idade <= 18:\n",
        "   print( \"pre\")\n",
        "elif idade > 18:\n",
        "   print( \"Avançada\")\n",
        "else:\n",
        "  print(\"Idade inválida\")\n",
        "\n",
        "\n"
      ],
      "metadata": {
        "colab": {
          "base_uri": "https://localhost:8080/"
        },
        "id": "aUnr2NzBcpJ5",
        "outputId": "5bc026bc-7bd8-4369-a7f9-817a6f48b45f"
      },
      "execution_count": null,
      "outputs": [
        {
          "output_type": "stream",
          "name": "stdout",
          "text": [
            "Digite a idade do nadador: 15\n",
            "pre\n"
          ]
        }
      ]
    },
    {
      "cell_type": "code",
      "source": [
        "# prompt:q.9)\n",
        "\n",
        "n1 = float(input(\"Digite o primeiro número: \"))\n",
        "operador= input(\"Digite a operação (+, -, *, /): \")\n",
        "n2 = float(input(\"Digite o segundo número: \"))\n",
        "\n",
        "if operador == \"+\":\n",
        "    print(n1 + n2)\n",
        "elif operador == \"-\":\n",
        "    print(n1 - n2)\n",
        "elif operador == \"*\":\n",
        "    print(n1 * n2)\n",
        "elif operador == \"/\":\n",
        "    if n2 != 0:\n",
        "        print(n1 / n2)\n",
        "    else:\n",
        "        print(\"Erro: Divisão por zero.\")\n",
        "else:\n",
        "    print(\"Operador inválido.\")#"
      ],
      "metadata": {
        "colab": {
          "base_uri": "https://localhost:8080/"
        },
        "id": "Ht1EFIn8dC6g",
        "outputId": "229d7517-78c0-439d-e325-878e11c6a506"
      },
      "execution_count": null,
      "outputs": [
        {
          "output_type": "stream",
          "name": "stdout",
          "text": [
            "Digite o primeiro número: 2\n",
            "Digite a operação (+, -, *, /): +\n",
            "Digite o segundo número: 6\n",
            "8.0\n"
          ]
        }
      ]
    },
    {
      "cell_type": "code",
      "source": [
        "# prompt:q.10)\n",
        "\n",
        "a = int(input(\"Digite o primeiro número: \"))\n",
        "b = int(input(\"Digite o segundo número: \"))\n",
        "c = int(input(\"Digite o terceiro número: \"))\n",
        "\n",
        "if a <= b and b <= c:\n",
        "    print(a, b, c)\n",
        "elif a <= c and c <= b:\n",
        "    print(a, c, b)\n",
        "elif b <= a and a <= c:\n",
        "    print(b, a, c)\n",
        "elif b <= c and c <= a:\n",
        "    print(b, c, a)\n",
        "elif c <= a and a <= b:\n",
        "    print(c, a, b)\n",
        "else:\n",
        "    print(c, b, a)"
      ],
      "metadata": {
        "id": "QYgvFbOU0din"
      },
      "execution_count": null,
      "outputs": []
    },
    {
      "cell_type": "code",
      "source": [
        "# prompt:q.11)\n",
        "numero = int(input(\"Digite um número entre 20 e 39: \"))\n",
        "\n",
        "if 20 <= numero <= 29:\n",
        "    unidade = numero - 20\n",
        "    extenso = \"Vinte\" if unidade == 0 else f\"Vinte e {['um', 'dois', 'três', 'quatro', 'cinco', 'seis', 'sete', 'oito', 'nove'][unidade-1]}\"\n",
        "    print(extenso)\n",
        "elif 30 <= numero <= 39:\n",
        "    unidade = numero - 30\n",
        "    extenso = \"Trinta\" if unidade == 0 else f\"Trinta e {['um', 'dois', 'três', 'quatro', 'cinco', 'seis', 'sete', 'oito', 'nove'][unidade-1]}\"\n",
        "    print(extenso)\n",
        "else:\n",
        "    print(\"Número fora do intervalo permitido.\")"
      ],
      "metadata": {
        "id": "x3xBTjKf1oIL"
      },
      "execution_count": null,
      "outputs": []
    },
    {
      "cell_type": "code",
      "source": [
        "# prompt:q.12)\n",
        "\n",
        "numero = int(input(\"Digite um número de 0 a 6: \"))\n",
        "\n",
        "if numero == 0:\n",
        "    print(\"Fatorial: 1\")\n",
        "elif numero == 1:\n",
        "    print(\"Fatorial: 1\")\n",
        "elif numero == 2:\n",
        "    print(\"Fatorial: 2\")\n",
        "elif numero == 3:\n",
        "    print(\"Fatorial: 6\")\n",
        "elif numero == 4:\n",
        "    print(\"Fatorial: 24\")\n",
        "elif numero == 5:\n",
        "    print(\"Fatorial: 120\")\n",
        "elif numero == 6:\n",
        "    print(\"Fatorial: 720\")\n",
        "else:\n",
        "    print(\"Número muito grande ou inválido para esta versão.\")"
      ],
      "metadata": {
        "id": "Zb-oD2uc3TBG"
      },
      "execution_count": null,
      "outputs": []
    }
  ]
}